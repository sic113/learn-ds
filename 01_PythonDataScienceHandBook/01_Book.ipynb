{
 "cells": [
  {
   "cell_type": "markdown",
   "id": "40c4f4b9-626d-49ab-bf9a-1e8889f36f97",
   "metadata": {},
   "source": [
    "# Jupyter NoteBook/Lab"
   ]
  },
  {
   "cell_type": "markdown",
   "id": "a3b747e8-ba64-4e1a-a2ae-eb012c49f98e",
   "metadata": {
    "tags": []
   },
   "source": [
    "## Документация с помощью символа '?'"
   ]
  },
  {
   "cell_type": "code",
   "execution_count": null,
   "id": "6f46e121-5a1e-4a39-a865-2fd1973dc5e1",
   "metadata": {},
   "outputs": [],
   "source": [
    "help(len)"
   ]
  },
  {
   "cell_type": "code",
   "execution_count": null,
   "id": "b319ac9b-2a6a-436c-b1ea-23483dd6514a",
   "metadata": {},
   "outputs": [],
   "source": [
    "len?"
   ]
  },
  {
   "cell_type": "code",
   "execution_count": null,
   "id": "031fd32e-8aea-4eb0-8155-2b5968ac2190",
   "metadata": {},
   "outputs": [],
   "source": [
    "L = [1,2,3]"
   ]
  },
  {
   "cell_type": "code",
   "execution_count": null,
   "id": "cfb58c7c-0835-4896-99f5-4741f2937ff4",
   "metadata": {},
   "outputs": [],
   "source": [
    "L.insert?"
   ]
  },
  {
   "cell_type": "code",
   "execution_count": null,
   "id": "31d3a46e-2475-4050-a2a3-e4ae165e0e71",
   "metadata": {},
   "outputs": [],
   "source": [
    "L?"
   ]
  },
  {
   "cell_type": "code",
   "execution_count": null,
   "id": "0dd671ed-21bb-42ba-b24a-5fd2959105bf",
   "metadata": {},
   "outputs": [],
   "source": [
    "def square(a):\n",
    "    \"\"\"Возвращает значение a^2\"\"\"\n",
    "    return a ** 2"
   ]
  },
  {
   "cell_type": "code",
   "execution_count": null,
   "id": "a9b55f06-8ec9-49a5-873e-afa7a63e4a54",
   "metadata": {},
   "outputs": [],
   "source": [
    "square?"
   ]
  },
  {
   "cell_type": "markdown",
   "id": "026718f7-038e-4c9e-a9e0-9eea46e7c928",
   "metadata": {
    "tags": []
   },
   "source": [
    "## Доступ к исходному коду с помощью символов '??'"
   ]
  },
  {
   "cell_type": "code",
   "execution_count": null,
   "id": "cd8881df-984b-4dc9-b442-3f0a2468a944",
   "metadata": {},
   "outputs": [],
   "source": [
    "square??"
   ]
  },
  {
   "cell_type": "markdown",
   "id": "3855a858-2360-4631-aa21-58b6e5add7ae",
   "metadata": {},
   "source": [
    "**Иногда добавление в конце '??' не приводит к отображению исходного кода, происходит это по причине того, что объект реализован не на языке Python, а на C, либо на каком-либо другом.\n",
    "Например функция len()**"
   ]
  },
  {
   "cell_type": "code",
   "execution_count": null,
   "id": "b1480253-2800-4f41-8792-f8c957a5a0d6",
   "metadata": {},
   "outputs": [],
   "source": [
    "len??"
   ]
  },
  {
   "cell_type": "markdown",
   "id": "b7f8145b-1d6b-491b-ab6a-d1fa4f0fb296",
   "metadata": {},
   "source": [
    "### Просмотр содержимого модулей с помощью Tab-автопродления"
   ]
  },
  {
   "cell_type": "raw",
   "id": "5dfc6a0c-5829-4e51-ba78-f571762f852b",
   "metadata": {},
   "source": [
    "L.<TAB>"
   ]
  },
  {
   "cell_type": "raw",
   "id": "22b26885-a640-4024-8b6e-1c156fcaf601",
   "metadata": {},
   "source": [
    "L.cou<TAB>"
   ]
  },
  {
   "cell_type": "raw",
   "id": "25488053-a227-49ff-861d-cb05702f4750",
   "metadata": {},
   "source": [
    "L._<TAB>"
   ]
  },
  {
   "cell_type": "markdown",
   "id": "e4a11ff9-549f-4442-b657-86b708e9e32f",
   "metadata": {},
   "source": [
    "### Автопродление с помощью клавиши Tab во время импорта"
   ]
  },
  {
   "cell_type": "raw",
   "id": "5da45f3a-5a32-4667-9dc2-4049912532fe",
   "metadata": {},
   "source": [
    "from itertools import co<TAB>"
   ]
  },
  {
   "cell_type": "raw",
   "id": "a9673599-4d87-4201-a2fc-60d48f2ecd8c",
   "metadata": {},
   "source": [
    "import <TAB>"
   ]
  },
  {
   "cell_type": "markdown",
   "id": "94cbea10-742a-4a03-a40f-b8082631e473",
   "metadata": {},
   "source": [
    "### Подбор по джокерному символу"
   ]
  },
  {
   "cell_type": "code",
   "execution_count": null,
   "id": "bc39feff-cad8-4902-9c02-c078c60c274f",
   "metadata": {},
   "outputs": [],
   "source": [
    "*Warning?"
   ]
  },
  {
   "cell_type": "code",
   "execution_count": null,
   "id": "4d17a38c-f8c6-4406-b09d-ab8bfa9a6a5a",
   "metadata": {},
   "outputs": [],
   "source": [
    "str.*find*?"
   ]
  },
  {
   "cell_type": "markdown",
   "id": "bc55ad27-bed5-494f-9f58-53cc6ec86908",
   "metadata": {
    "tags": []
   },
   "source": [
    "## Сочетания горячих клавиш в командной оболочке IPython"
   ]
  },
  {
   "cell_type": "code",
   "execution_count": null,
   "id": "d8fabc3a-30e8-4232-9ff2-d6e8bee8d475",
   "metadata": {},
   "outputs": [],
   "source": [
    "import pandas as pd"
   ]
  },
  {
   "cell_type": "markdown",
   "id": "6190680b-0a94-45e6-96f5-f3612092ba00",
   "metadata": {},
   "source": [
    "### Навигационные горячие клавиши"
   ]
  },
  {
   "cell_type": "code",
   "execution_count": null,
   "id": "eb1d1d39-1a2c-4c10-b883-6dd6cbb15804",
   "metadata": {},
   "outputs": [],
   "source": [
    "pd.DataFrame({\n",
    "     'Комбинация клавиш': ['Ctrl+A', 'Ctrl+E', 'Ctrl+B (или стрелка влево)', 'Ctrl+F (или стрелка вправо)'],\n",
    "     'Действие': ['Перемещает курсор в начало строки', 'Перемещает курсор в конец строки', 'Перемещает курсор назад на 1 символ', 'Перемещает курсор вперед на 1 символ']\n",
    "})"
   ]
  },
  {
   "cell_type": "markdown",
   "id": "6eeb2c15-20f4-4cb4-9feb-1b2b3f699739",
   "metadata": {},
   "source": [
    "### Горячие клавиши ввода текста"
   ]
  },
  {
   "cell_type": "code",
   "execution_count": null,
   "id": "3f75816a-559f-4051-80f9-5853ea911e6e",
   "metadata": {},
   "outputs": [],
   "source": [
    "pd.DataFrame({\n",
    "     'Комбинация клавиш': ['BackSpace', 'Ctrl+D', 'Ctrl+K', 'Ctrl+U', 'Ctrl+Y', 'Ctrl+T'],\n",
    "     'Действие': ['Удаляет предыдущий символ в строке', 'Удаляет следующий символ в строке', 'Вырезает текст от курсора и до конца строки',\n",
    "                  'Вырезает текст с начала строки до курсора','Вставляет предварительно вырезанный текст','Меняет местами предыдущие два символа']\n",
    "})"
   ]
  },
  {
   "cell_type": "markdown",
   "id": "1a3a34c9-e618-4955-83b8-f2f6792b8dfc",
   "metadata": {},
   "source": [
    "### Горячие клавиши для истории команд"
   ]
  },
  {
   "cell_type": "code",
   "execution_count": null,
   "id": "674b22d1-87fd-48cd-8cb5-5ef81cbd3ff1",
   "metadata": {},
   "outputs": [],
   "source": [
    "pd.DataFrame({\n",
    "     'Комбинация клавиш': ['Ctrl+P', 'Ctrl+N (или стрелка вверх)', 'Ctrl+R (или стрелка вниз)'],\n",
    "     'Действие': ['Доступ к предыдущей команде в истории', 'Доступ к следующей команде в истории', 'Поиск в обратном направлении по истории команд']\n",
    "})"
   ]
  },
  {
   "cell_type": "markdown",
   "id": "bc6e8cfd-4599-4c08-8113-af288a38522c",
   "metadata": {},
   "source": [
    "### Прочие горячие клавиши"
   ]
  },
  {
   "cell_type": "code",
   "execution_count": null,
   "id": "c237217f-12a3-4b0e-91c2-39998cda83a1",
   "metadata": {},
   "outputs": [],
   "source": [
    "pd.DataFrame({\n",
    "     'Комбинация клавиш': ['Ctrl+L', 'Ctrl+N (или стрелка вниз)', 'Ctrl+D'],\n",
    "     'Действие': ['Очистить экран терминала', 'Прервать выполнение текущей команды Python', 'Выйти из сеанса IPython']\n",
    "})"
   ]
  },
  {
   "cell_type": "markdown",
   "id": "e0df2145-ee4e-4ab7-a26c-9a0930077bcb",
   "metadata": {},
   "source": [
    "## Магические команды IPython"
   ]
  },
  {
   "cell_type": "markdown",
   "id": "33a15464-0200-4bde-99a3-6ad850de5325",
   "metadata": {},
   "source": [
    "% - работают с одной строкой ввода(строчные) ;\n",
    "%% - работают с несколькими строкой ввода(блочные)"
   ]
  },
  {
   "cell_type": "markdown",
   "id": "3495efc0-72da-4d0e-99db-515d3f7499e7",
   "metadata": {},
   "source": [
    "### Вставка блоков кода %paste и %cpaste"
   ]
  },
  {
   "cell_type": "raw",
   "id": "0ca0f7de-b2d5-42f0-a21e-149522ec803b",
   "metadata": {},
   "source": [
    "%paste - вводит и исполняет код в командной строке\n",
    "%%cpaste - вводит один или несколько фрагментов кода и исполняет код в командной строке"
   ]
  },
  {
   "cell_type": "markdown",
   "id": "395cd0aa-0c6f-489a-8a2e-a8dd764d0404",
   "metadata": {},
   "source": [
    "### Выполнение внешнего кода %run"
   ]
  },
  {
   "cell_type": "raw",
   "id": "8b2bc803-5b1b-4e26-9d5b-3277cac9332a",
   "metadata": {},
   "source": [
    "%run myscript.py"
   ]
  },
  {
   "cell_type": "markdown",
   "id": "ba9ba364-7766-40dd-8b73-3e1b73bdad44",
   "metadata": {},
   "source": [
    "### Длительность выполнения кода %timeit"
   ]
  },
  {
   "cell_type": "code",
   "execution_count": null,
   "id": "e92f08d7-a0d1-4590-a430-f6100dc09913",
   "metadata": {},
   "outputs": [],
   "source": [
    "%timeit L = [n ** 2 for n in range(1000)]"
   ]
  },
  {
   "cell_type": "code",
   "execution_count": null,
   "id": "92ba9af9-4888-4f94-92ee-da41bfffa5d9",
   "metadata": {},
   "outputs": [],
   "source": [
    "%%timeit\n",
    "L = []\n",
    "for n in range(1000):\n",
    "    L.append(n ** 2)"
   ]
  },
  {
   "cell_type": "markdown",
   "id": "306d2983-e26d-451c-9349-78856755194b",
   "metadata": {},
   "source": [
    "### Справка по \"магическим\" функциям: ?, %magic и %lsmagic"
   ]
  },
  {
   "cell_type": "code",
   "execution_count": null,
   "id": "64d3e83b-7e53-470b-b353-46c69afa46dc",
   "metadata": {
    "tags": []
   },
   "outputs": [],
   "source": [
    "%timeit?"
   ]
  },
  {
   "cell_type": "code",
   "execution_count": null,
   "id": "f9191518-1d70-489c-9b6c-f1df815abcdf",
   "metadata": {
    "tags": []
   },
   "outputs": [],
   "source": [
    "%magic"
   ]
  },
  {
   "cell_type": "code",
   "execution_count": null,
   "id": "8a5e8dbc-5427-47b9-b979-663c7f88e6f3",
   "metadata": {},
   "outputs": [],
   "source": [
    "%lsmagic"
   ]
  },
  {
   "cell_type": "code",
   "execution_count": null,
   "id": "f4411267-8b30-4381-84d6-4c27c65bee40",
   "metadata": {},
   "outputs": [],
   "source": [
    "%rerun 21"
   ]
  },
  {
   "cell_type": "code",
   "execution_count": null,
   "id": "ff12af49-d1d9-4a77-8046-fb79535e8dd4",
   "metadata": {},
   "outputs": [],
   "source": [
    "%save 21"
   ]
  },
  {
   "cell_type": "markdown",
   "id": "e5066c6b-9340-47c6-b44a-cb6a043625ca",
   "metadata": {},
   "source": [
    "## История ввода и вывода"
   ]
  },
  {
   "cell_type": "markdown",
   "id": "51f94af9-2dec-4752-9c5b-058966795122",
   "metadata": {},
   "source": [
    "### Объекты IN/OUT"
   ]
  },
  {
   "cell_type": "code",
   "execution_count": null,
   "id": "cbc8f6f8-7fe7-4b7c-b503-3d76cdc7e5ed",
   "metadata": {},
   "outputs": [],
   "source": [
    "import math"
   ]
  },
  {
   "cell_type": "code",
   "execution_count": null,
   "id": "2f075257-cf29-4ca8-b444-f654d7fbaacf",
   "metadata": {},
   "outputs": [],
   "source": [
    "math.sin(2)"
   ]
  },
  {
   "cell_type": "code",
   "execution_count": null,
   "id": "f4c8ccb2-6dc5-4509-b75b-fa2a747cfe38",
   "metadata": {},
   "outputs": [],
   "source": [
    "math.cos(2)"
   ]
  },
  {
   "cell_type": "code",
   "execution_count": null,
   "id": "66569dc5-0e83-49a0-bb19-b1af92b90286",
   "metadata": {},
   "outputs": [],
   "source": [
    "print(In)"
   ]
  },
  {
   "cell_type": "code",
   "execution_count": null,
   "id": "31d748e2-72b8-4881-ae68-a758e5e9403a",
   "metadata": {},
   "outputs": [],
   "source": [
    "Out"
   ]
  },
  {
   "cell_type": "code",
   "execution_count": null,
   "id": "11f5fdd7-9937-42d3-ac5a-6099468d91f0",
   "metadata": {},
   "outputs": [],
   "source": [
    "print(In[-9])"
   ]
  },
  {
   "cell_type": "code",
   "execution_count": null,
   "id": "817a41a8-24f2-4697-9489-12620f34f6df",
   "metadata": {},
   "outputs": [],
   "source": [
    "Out[23] ** 2 + Out[24] ** 2"
   ]
  },
  {
   "cell_type": "markdown",
   "id": "31db4107-1670-4360-a6a8-417bf539fe33",
   "metadata": {},
   "source": [
    "### Быстрый доступ к предыдущим выводам с помощью знака _"
   ]
  },
  {
   "cell_type": "code",
   "execution_count": null,
   "id": "73f3d136-b272-437d-9a2b-70c1a00fac76",
   "metadata": {},
   "outputs": [],
   "source": [
    "print(_)"
   ]
  },
  {
   "cell_type": "code",
   "execution_count": null,
   "id": "721ab2ca-7ab9-4e20-9496-80f6b85ff1dc",
   "metadata": {},
   "outputs": [],
   "source": [
    "print(__)"
   ]
  },
  {
   "cell_type": "code",
   "execution_count": null,
   "id": "4ef65cae-5378-476b-b459-0578732f5fb7",
   "metadata": {},
   "outputs": [],
   "source": [
    "Out[23]"
   ]
  },
  {
   "cell_type": "code",
   "execution_count": null,
   "id": "5ec4756c-13b7-4a8a-92b8-fa62c4df9037",
   "metadata": {},
   "outputs": [],
   "source": [
    "_23"
   ]
  },
  {
   "cell_type": "markdown",
   "id": "0193dea9-3880-4e90-ac96-599fa92d1139",
   "metadata": {},
   "source": [
    "### Подавление вывода"
   ]
  },
  {
   "cell_type": "markdown",
   "id": "a54e9384-3642-4163-9926-a9aa55007e99",
   "metadata": {},
   "source": [
    "**С помощью символа ;**"
   ]
  },
  {
   "cell_type": "code",
   "execution_count": null,
   "id": "f371939f-5056-4ec3-83b3-0624b83d7230",
   "metadata": {},
   "outputs": [],
   "source": [
    "math.sin(2) ** 2 + math.cos(2) ** 2"
   ]
  },
  {
   "cell_type": "code",
   "execution_count": null,
   "id": "9e92b545-c0ed-4d7a-aecd-311156d9b441",
   "metadata": {},
   "outputs": [],
   "source": [
    "math.sin(2) ** 2 + math.cos(2) ** 2;"
   ]
  },
  {
   "cell_type": "code",
   "execution_count": null,
   "id": "c2166a61-513c-4fde-a415-5996cfc79b78",
   "metadata": {},
   "outputs": [],
   "source": [
    "34 in Out"
   ]
  },
  {
   "cell_type": "markdown",
   "id": "45ef0385-3c34-430c-9303-e2b8169d8e4e",
   "metadata": {},
   "source": [
    "### Соответствующие магические команды"
   ]
  },
  {
   "cell_type": "code",
   "execution_count": null,
   "id": "ab303df7-7386-4810-8b6b-5d3fd3b7690c",
   "metadata": {},
   "outputs": [],
   "source": [
    "%history -n 14-16"
   ]
  },
  {
   "cell_type": "code",
   "execution_count": null,
   "id": "9b42e604-0501-45f8-86d6-6c3e1b2a31ec",
   "metadata": {},
   "outputs": [],
   "source": []
  }
 ],
 "metadata": {
  "kernelspec": {
   "display_name": "Python 3 (ipykernel)",
   "language": "python",
   "name": "python3"
  },
  "language_info": {
   "codemirror_mode": {
    "name": "ipython",
    "version": 3
   },
   "file_extension": ".py",
   "mimetype": "text/x-python",
   "name": "python",
   "nbconvert_exporter": "python",
   "pygments_lexer": "ipython3",
   "version": "3.10.9"
  },
  "toc-autonumbering": true,
  "toc-showcode": false,
  "toc-showmarkdowntxt": false
 },
 "nbformat": 4,
 "nbformat_minor": 5
}
