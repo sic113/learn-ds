{
 "cells": [
  {
   "cell_type": "markdown",
   "id": "40c4f4b9-626d-49ab-bf9a-1e8889f36f97",
   "metadata": {},
   "source": [
    "# Jupyter NoteBook/Lab"
   ]
  },
  {
   "cell_type": "markdown",
   "id": "a3b747e8-ba64-4e1a-a2ae-eb012c49f98e",
   "metadata": {
    "tags": []
   },
   "source": [
    "## Документация с помощью символа '?'"
   ]
  },
  {
   "cell_type": "code",
   "execution_count": 1,
   "id": "6f46e121-5a1e-4a39-a865-2fd1973dc5e1",
   "metadata": {},
   "outputs": [
    {
     "name": "stdout",
     "output_type": "stream",
     "text": [
      "Help on built-in function len in module builtins:\n",
      "\n",
      "len(obj, /)\n",
      "    Return the number of items in a container.\n",
      "\n"
     ]
    }
   ],
   "source": [
    "help(len)"
   ]
  },
  {
   "cell_type": "code",
   "execution_count": 2,
   "id": "b319ac9b-2a6a-436c-b1ea-23483dd6514a",
   "metadata": {},
   "outputs": [
    {
     "data": {
      "text/plain": [
       "\u001b[1;31mSignature:\u001b[0m \u001b[0mlen\u001b[0m\u001b[1;33m(\u001b[0m\u001b[0mobj\u001b[0m\u001b[1;33m,\u001b[0m \u001b[1;33m/\u001b[0m\u001b[1;33m)\u001b[0m\u001b[1;33m\u001b[0m\u001b[1;33m\u001b[0m\u001b[0m\n",
       "\u001b[1;31mDocstring:\u001b[0m Return the number of items in a container.\n",
       "\u001b[1;31mType:\u001b[0m      builtin_function_or_method"
      ]
     },
     "metadata": {},
     "output_type": "display_data"
    }
   ],
   "source": [
    "len?"
   ]
  },
  {
   "cell_type": "code",
   "execution_count": 3,
   "id": "031fd32e-8aea-4eb0-8155-2b5968ac2190",
   "metadata": {},
   "outputs": [],
   "source": [
    "L = [1,2,3]"
   ]
  },
  {
   "cell_type": "code",
   "execution_count": 4,
   "id": "cfb58c7c-0835-4896-99f5-4741f2937ff4",
   "metadata": {},
   "outputs": [
    {
     "data": {
      "text/plain": [
       "\u001b[1;31mSignature:\u001b[0m \u001b[0mL\u001b[0m\u001b[1;33m.\u001b[0m\u001b[0minsert\u001b[0m\u001b[1;33m(\u001b[0m\u001b[0mindex\u001b[0m\u001b[1;33m,\u001b[0m \u001b[0mobject\u001b[0m\u001b[1;33m,\u001b[0m \u001b[1;33m/\u001b[0m\u001b[1;33m)\u001b[0m\u001b[1;33m\u001b[0m\u001b[1;33m\u001b[0m\u001b[0m\n",
       "\u001b[1;31mDocstring:\u001b[0m Insert object before index.\n",
       "\u001b[1;31mType:\u001b[0m      builtin_function_or_method"
      ]
     },
     "metadata": {},
     "output_type": "display_data"
    }
   ],
   "source": [
    "L.insert?"
   ]
  },
  {
   "cell_type": "code",
   "execution_count": 5,
   "id": "31d3a46e-2475-4050-a2a3-e4ae165e0e71",
   "metadata": {},
   "outputs": [
    {
     "data": {
      "text/plain": [
       "\u001b[1;31mType:\u001b[0m        list\n",
       "\u001b[1;31mString form:\u001b[0m [1, 2, 3]\n",
       "\u001b[1;31mLength:\u001b[0m      3\n",
       "\u001b[1;31mDocstring:\u001b[0m  \n",
       "Built-in mutable sequence.\n",
       "\n",
       "If no argument is given, the constructor creates a new empty list.\n",
       "The argument must be an iterable if specified."
      ]
     },
     "metadata": {},
     "output_type": "display_data"
    }
   ],
   "source": [
    "L?"
   ]
  },
  {
   "cell_type": "code",
   "execution_count": 6,
   "id": "0dd671ed-21bb-42ba-b24a-5fd2959105bf",
   "metadata": {},
   "outputs": [],
   "source": [
    "def square(a):\n",
    "    \"\"\"Возвращает значение a^2\"\"\"\n",
    "    return a ** 2"
   ]
  },
  {
   "cell_type": "code",
   "execution_count": 7,
   "id": "a9b55f06-8ec9-49a5-873e-afa7a63e4a54",
   "metadata": {},
   "outputs": [
    {
     "data": {
      "text/plain": [
       "\u001b[1;31mSignature:\u001b[0m \u001b[0msquare\u001b[0m\u001b[1;33m(\u001b[0m\u001b[0ma\u001b[0m\u001b[1;33m)\u001b[0m\u001b[1;33m\u001b[0m\u001b[1;33m\u001b[0m\u001b[0m\n",
       "\u001b[1;31mDocstring:\u001b[0m Возвращает значение a^2\n",
       "\u001b[1;31mFile:\u001b[0m      c:\\users\\113si\\appdata\\local\\temp\\ipykernel_6464\\652159867.py\n",
       "\u001b[1;31mType:\u001b[0m      function"
      ]
     },
     "metadata": {},
     "output_type": "display_data"
    }
   ],
   "source": [
    "square?"
   ]
  },
  {
   "cell_type": "markdown",
   "id": "026718f7-038e-4c9e-a9e0-9eea46e7c928",
   "metadata": {
    "tags": []
   },
   "source": [
    "## Доступ к исходному коду с помощью символов '??'"
   ]
  },
  {
   "cell_type": "code",
   "execution_count": 8,
   "id": "cd8881df-984b-4dc9-b442-3f0a2468a944",
   "metadata": {},
   "outputs": [
    {
     "data": {
      "text/plain": [
       "\u001b[1;31mSignature:\u001b[0m \u001b[0msquare\u001b[0m\u001b[1;33m(\u001b[0m\u001b[0ma\u001b[0m\u001b[1;33m)\u001b[0m\u001b[1;33m\u001b[0m\u001b[1;33m\u001b[0m\u001b[0m\n",
       "\u001b[1;31mSource:\u001b[0m   \n",
       "\u001b[1;32mdef\u001b[0m \u001b[0msquare\u001b[0m\u001b[1;33m(\u001b[0m\u001b[0ma\u001b[0m\u001b[1;33m)\u001b[0m\u001b[1;33m:\u001b[0m\u001b[1;33m\n",
       "\u001b[0m    \u001b[1;34m\"\"\"Возвращает значение a^2\"\"\"\u001b[0m\u001b[1;33m\n",
       "\u001b[0m    \u001b[1;32mreturn\u001b[0m \u001b[0ma\u001b[0m \u001b[1;33m**\u001b[0m \u001b[1;36m2\u001b[0m\u001b[1;33m\u001b[0m\u001b[1;33m\u001b[0m\u001b[0m\n",
       "\u001b[1;31mFile:\u001b[0m      c:\\users\\113si\\appdata\\local\\temp\\ipykernel_6464\\652159867.py\n",
       "\u001b[1;31mType:\u001b[0m      function"
      ]
     },
     "metadata": {},
     "output_type": "display_data"
    }
   ],
   "source": [
    "square??"
   ]
  },
  {
   "cell_type": "markdown",
   "id": "3855a858-2360-4631-aa21-58b6e5add7ae",
   "metadata": {},
   "source": [
    "**Иногда добавление в конце '??' не приводит к отображению исходного кода, происходит это по причине того, что объект реализован не на языке Python, а на C, либо на каком-либо другом.\n",
    "Например функция len()**"
   ]
  },
  {
   "cell_type": "code",
   "execution_count": 9,
   "id": "b1480253-2800-4f41-8792-f8c957a5a0d6",
   "metadata": {},
   "outputs": [
    {
     "data": {
      "text/plain": [
       "\u001b[1;31mSignature:\u001b[0m \u001b[0mlen\u001b[0m\u001b[1;33m(\u001b[0m\u001b[0mobj\u001b[0m\u001b[1;33m,\u001b[0m \u001b[1;33m/\u001b[0m\u001b[1;33m)\u001b[0m\u001b[1;33m\u001b[0m\u001b[1;33m\u001b[0m\u001b[0m\n",
       "\u001b[1;31mDocstring:\u001b[0m Return the number of items in a container.\n",
       "\u001b[1;31mType:\u001b[0m      builtin_function_or_method"
      ]
     },
     "metadata": {},
     "output_type": "display_data"
    }
   ],
   "source": [
    "len??"
   ]
  },
  {
   "cell_type": "markdown",
   "id": "b7f8145b-1d6b-491b-ab6a-d1fa4f0fb296",
   "metadata": {},
   "source": [
    "### Просмотр содержимого модулей с помощью Tab-автопродления"
   ]
  },
  {
   "cell_type": "raw",
   "id": "5dfc6a0c-5829-4e51-ba78-f571762f852b",
   "metadata": {},
   "source": [
    "L.<TAB>"
   ]
  },
  {
   "cell_type": "raw",
   "id": "22b26885-a640-4024-8b6e-1c156fcaf601",
   "metadata": {},
   "source": [
    "L.cou<TAB>"
   ]
  },
  {
   "cell_type": "raw",
   "id": "25488053-a227-49ff-861d-cb05702f4750",
   "metadata": {},
   "source": [
    "L._<TAB>"
   ]
  },
  {
   "cell_type": "markdown",
   "id": "e4a11ff9-549f-4442-b657-86b708e9e32f",
   "metadata": {},
   "source": [
    "### Автопродление с помощью клавиши Tab во время импорта"
   ]
  },
  {
   "cell_type": "raw",
   "id": "5da45f3a-5a32-4667-9dc2-4049912532fe",
   "metadata": {},
   "source": [
    "from itertools import co<TAB>"
   ]
  },
  {
   "cell_type": "raw",
   "id": "a9673599-4d87-4201-a2fc-60d48f2ecd8c",
   "metadata": {},
   "source": [
    "import <TAB>"
   ]
  },
  {
   "cell_type": "markdown",
   "id": "94cbea10-742a-4a03-a40f-b8082631e473",
   "metadata": {},
   "source": [
    "### Подбор по джокерному символу"
   ]
  },
  {
   "cell_type": "code",
   "execution_count": 10,
   "id": "bc39feff-cad8-4902-9c02-c078c60c274f",
   "metadata": {},
   "outputs": [
    {
     "data": {
      "text/plain": [
       "BytesWarning\n",
       "DeprecationWarning\n",
       "EncodingWarning\n",
       "FutureWarning\n",
       "ImportWarning\n",
       "PendingDeprecationWarning\n",
       "ResourceWarning\n",
       "RuntimeWarning\n",
       "SyntaxWarning\n",
       "UnicodeWarning\n",
       "UserWarning\n",
       "Warning"
      ]
     },
     "metadata": {},
     "output_type": "display_data"
    }
   ],
   "source": [
    "*Warning?"
   ]
  },
  {
   "cell_type": "code",
   "execution_count": 11,
   "id": "4d17a38c-f8c6-4406-b09d-ab8bfa9a6a5a",
   "metadata": {},
   "outputs": [
    {
     "data": {
      "text/plain": [
       "str.find\n",
       "str.rfind"
      ]
     },
     "metadata": {},
     "output_type": "display_data"
    }
   ],
   "source": [
    "str.*find*?"
   ]
  },
  {
   "cell_type": "markdown",
   "id": "bc55ad27-bed5-494f-9f58-53cc6ec86908",
   "metadata": {
    "tags": []
   },
   "source": [
    "## Сочетания горячих клавиш в командной оболочке IPython"
   ]
  },
  {
   "cell_type": "code",
   "execution_count": 12,
   "id": "d8fabc3a-30e8-4232-9ff2-d6e8bee8d475",
   "metadata": {},
   "outputs": [],
   "source": [
    "import pandas as pd"
   ]
  },
  {
   "cell_type": "markdown",
   "id": "6190680b-0a94-45e6-96f5-f3612092ba00",
   "metadata": {},
   "source": [
    "### Навигационные горячие клавиши"
   ]
  },
  {
   "cell_type": "code",
   "execution_count": 13,
   "id": "eb1d1d39-1a2c-4c10-b883-6dd6cbb15804",
   "metadata": {},
   "outputs": [
    {
     "data": {
      "text/html": [
       "<div>\n",
       "<style scoped>\n",
       "    .dataframe tbody tr th:only-of-type {\n",
       "        vertical-align: middle;\n",
       "    }\n",
       "\n",
       "    .dataframe tbody tr th {\n",
       "        vertical-align: top;\n",
       "    }\n",
       "\n",
       "    .dataframe thead th {\n",
       "        text-align: right;\n",
       "    }\n",
       "</style>\n",
       "<table border=\"1\" class=\"dataframe\">\n",
       "  <thead>\n",
       "    <tr style=\"text-align: right;\">\n",
       "      <th></th>\n",
       "      <th>Комбинация клавиш</th>\n",
       "      <th>Действие</th>\n",
       "    </tr>\n",
       "  </thead>\n",
       "  <tbody>\n",
       "    <tr>\n",
       "      <th>0</th>\n",
       "      <td>Ctrl+A</td>\n",
       "      <td>Перемещает курсор в начало строки</td>\n",
       "    </tr>\n",
       "    <tr>\n",
       "      <th>1</th>\n",
       "      <td>Ctrl+E</td>\n",
       "      <td>Перемещает курсор в конец строки</td>\n",
       "    </tr>\n",
       "    <tr>\n",
       "      <th>2</th>\n",
       "      <td>Ctrl+B (или стрелка влево)</td>\n",
       "      <td>Перемещает курсор назад на 1 символ</td>\n",
       "    </tr>\n",
       "    <tr>\n",
       "      <th>3</th>\n",
       "      <td>Ctrl+F (или стрелка вправо)</td>\n",
       "      <td>Перемещает курсор вперед на 1 символ</td>\n",
       "    </tr>\n",
       "  </tbody>\n",
       "</table>\n",
       "</div>"
      ],
      "text/plain": [
       "             Комбинация клавиш                              Действие\n",
       "0                       Ctrl+A     Перемещает курсор в начало строки\n",
       "1                       Ctrl+E      Перемещает курсор в конец строки\n",
       "2   Ctrl+B (или стрелка влево)   Перемещает курсор назад на 1 символ\n",
       "3  Ctrl+F (или стрелка вправо)  Перемещает курсор вперед на 1 символ"
      ]
     },
     "execution_count": 13,
     "metadata": {},
     "output_type": "execute_result"
    }
   ],
   "source": [
    "pd.DataFrame({\n",
    "     'Комбинация клавиш': ['Ctrl+A', 'Ctrl+E', 'Ctrl+B (или стрелка влево)', 'Ctrl+F (или стрелка вправо)'],\n",
    "     'Действие': ['Перемещает курсор в начало строки', 'Перемещает курсор в конец строки', 'Перемещает курсор назад на 1 символ', 'Перемещает курсор вперед на 1 символ']\n",
    "})"
   ]
  },
  {
   "cell_type": "markdown",
   "id": "6eeb2c15-20f4-4cb4-9feb-1b2b3f699739",
   "metadata": {},
   "source": [
    "### Горячие клавиши ввода текста"
   ]
  },
  {
   "cell_type": "code",
   "execution_count": 14,
   "id": "3f75816a-559f-4051-80f9-5853ea911e6e",
   "metadata": {},
   "outputs": [
    {
     "data": {
      "text/html": [
       "<div>\n",
       "<style scoped>\n",
       "    .dataframe tbody tr th:only-of-type {\n",
       "        vertical-align: middle;\n",
       "    }\n",
       "\n",
       "    .dataframe tbody tr th {\n",
       "        vertical-align: top;\n",
       "    }\n",
       "\n",
       "    .dataframe thead th {\n",
       "        text-align: right;\n",
       "    }\n",
       "</style>\n",
       "<table border=\"1\" class=\"dataframe\">\n",
       "  <thead>\n",
       "    <tr style=\"text-align: right;\">\n",
       "      <th></th>\n",
       "      <th>Комбинация клавиш</th>\n",
       "      <th>Действие</th>\n",
       "    </tr>\n",
       "  </thead>\n",
       "  <tbody>\n",
       "    <tr>\n",
       "      <th>0</th>\n",
       "      <td>BackSpace</td>\n",
       "      <td>Удаляет предыдущий символ в строке</td>\n",
       "    </tr>\n",
       "    <tr>\n",
       "      <th>1</th>\n",
       "      <td>Ctrl+D</td>\n",
       "      <td>Удаляет следующий символ в строке</td>\n",
       "    </tr>\n",
       "    <tr>\n",
       "      <th>2</th>\n",
       "      <td>Ctrl+K</td>\n",
       "      <td>Вырезает текст от курсора и до конца строки</td>\n",
       "    </tr>\n",
       "    <tr>\n",
       "      <th>3</th>\n",
       "      <td>Ctrl+U</td>\n",
       "      <td>Вырезает текст с начала строки до курсора</td>\n",
       "    </tr>\n",
       "    <tr>\n",
       "      <th>4</th>\n",
       "      <td>Ctrl+Y</td>\n",
       "      <td>Вставляет предварительно вырезанный текст</td>\n",
       "    </tr>\n",
       "    <tr>\n",
       "      <th>5</th>\n",
       "      <td>Ctrl+T</td>\n",
       "      <td>Меняет местами предыдущие два символа</td>\n",
       "    </tr>\n",
       "  </tbody>\n",
       "</table>\n",
       "</div>"
      ],
      "text/plain": [
       "  Комбинация клавиш                                     Действие\n",
       "0         BackSpace           Удаляет предыдущий символ в строке\n",
       "1            Ctrl+D            Удаляет следующий символ в строке\n",
       "2            Ctrl+K  Вырезает текст от курсора и до конца строки\n",
       "3            Ctrl+U    Вырезает текст с начала строки до курсора\n",
       "4            Ctrl+Y    Вставляет предварительно вырезанный текст\n",
       "5            Ctrl+T        Меняет местами предыдущие два символа"
      ]
     },
     "execution_count": 14,
     "metadata": {},
     "output_type": "execute_result"
    }
   ],
   "source": [
    "pd.DataFrame({\n",
    "     'Комбинация клавиш': ['BackSpace', 'Ctrl+D', 'Ctrl+K', 'Ctrl+U', 'Ctrl+Y', 'Ctrl+T'],\n",
    "     'Действие': ['Удаляет предыдущий символ в строке', 'Удаляет следующий символ в строке', 'Вырезает текст от курсора и до конца строки',\n",
    "                  'Вырезает текст с начала строки до курсора','Вставляет предварительно вырезанный текст','Меняет местами предыдущие два символа']\n",
    "})"
   ]
  },
  {
   "cell_type": "markdown",
   "id": "1a3a34c9-e618-4955-83b8-f2f6792b8dfc",
   "metadata": {},
   "source": [
    "### Горячие клавиши для истории команд"
   ]
  },
  {
   "cell_type": "code",
   "execution_count": 15,
   "id": "674b22d1-87fd-48cd-8cb5-5ef81cbd3ff1",
   "metadata": {},
   "outputs": [
    {
     "data": {
      "text/html": [
       "<div>\n",
       "<style scoped>\n",
       "    .dataframe tbody tr th:only-of-type {\n",
       "        vertical-align: middle;\n",
       "    }\n",
       "\n",
       "    .dataframe tbody tr th {\n",
       "        vertical-align: top;\n",
       "    }\n",
       "\n",
       "    .dataframe thead th {\n",
       "        text-align: right;\n",
       "    }\n",
       "</style>\n",
       "<table border=\"1\" class=\"dataframe\">\n",
       "  <thead>\n",
       "    <tr style=\"text-align: right;\">\n",
       "      <th></th>\n",
       "      <th>Комбинация клавиш</th>\n",
       "      <th>Действие</th>\n",
       "    </tr>\n",
       "  </thead>\n",
       "  <tbody>\n",
       "    <tr>\n",
       "      <th>0</th>\n",
       "      <td>Ctrl+P</td>\n",
       "      <td>Доступ к предыдущей команде в истории</td>\n",
       "    </tr>\n",
       "    <tr>\n",
       "      <th>1</th>\n",
       "      <td>Ctrl+N (или стрелка вверх)</td>\n",
       "      <td>Доступ к следующей команде в истории</td>\n",
       "    </tr>\n",
       "    <tr>\n",
       "      <th>2</th>\n",
       "      <td>Ctrl+R (или стрелка вниз)</td>\n",
       "      <td>Поиск в обратном направлении по истории команд</td>\n",
       "    </tr>\n",
       "  </tbody>\n",
       "</table>\n",
       "</div>"
      ],
      "text/plain": [
       "            Комбинация клавиш                                        Действие\n",
       "0                      Ctrl+P           Доступ к предыдущей команде в истории\n",
       "1  Ctrl+N (или стрелка вверх)            Доступ к следующей команде в истории\n",
       "2   Ctrl+R (или стрелка вниз)  Поиск в обратном направлении по истории команд"
      ]
     },
     "execution_count": 15,
     "metadata": {},
     "output_type": "execute_result"
    }
   ],
   "source": [
    "pd.DataFrame({\n",
    "     'Комбинация клавиш': ['Ctrl+P', 'Ctrl+N (или стрелка вверх)', 'Ctrl+R (или стрелка вниз)'],\n",
    "     'Действие': ['Доступ к предыдущей команде в истории', 'Доступ к следующей команде в истории', 'Поиск в обратном направлении по истории команд']\n",
    "})"
   ]
  },
  {
   "cell_type": "markdown",
   "id": "bc6e8cfd-4599-4c08-8113-af288a38522c",
   "metadata": {},
   "source": [
    "### Прочие горячие клавиши"
   ]
  },
  {
   "cell_type": "code",
   "execution_count": 16,
   "id": "c237217f-12a3-4b0e-91c2-39998cda83a1",
   "metadata": {},
   "outputs": [
    {
     "data": {
      "text/html": [
       "<div>\n",
       "<style scoped>\n",
       "    .dataframe tbody tr th:only-of-type {\n",
       "        vertical-align: middle;\n",
       "    }\n",
       "\n",
       "    .dataframe tbody tr th {\n",
       "        vertical-align: top;\n",
       "    }\n",
       "\n",
       "    .dataframe thead th {\n",
       "        text-align: right;\n",
       "    }\n",
       "</style>\n",
       "<table border=\"1\" class=\"dataframe\">\n",
       "  <thead>\n",
       "    <tr style=\"text-align: right;\">\n",
       "      <th></th>\n",
       "      <th>Комбинация клавиш</th>\n",
       "      <th>Действие</th>\n",
       "    </tr>\n",
       "  </thead>\n",
       "  <tbody>\n",
       "    <tr>\n",
       "      <th>0</th>\n",
       "      <td>Ctrl+L</td>\n",
       "      <td>Очистить экран терминала</td>\n",
       "    </tr>\n",
       "    <tr>\n",
       "      <th>1</th>\n",
       "      <td>Ctrl+N (или стрелка вниз)</td>\n",
       "      <td>Прервать выполнение текущей команды Python</td>\n",
       "    </tr>\n",
       "    <tr>\n",
       "      <th>2</th>\n",
       "      <td>Ctrl+D</td>\n",
       "      <td>Выйти из сеанса IPython</td>\n",
       "    </tr>\n",
       "  </tbody>\n",
       "</table>\n",
       "</div>"
      ],
      "text/plain": [
       "           Комбинация клавиш                                    Действие\n",
       "0                     Ctrl+L                    Очистить экран терминала\n",
       "1  Ctrl+N (или стрелка вниз)  Прервать выполнение текущей команды Python\n",
       "2                     Ctrl+D                     Выйти из сеанса IPython"
      ]
     },
     "execution_count": 16,
     "metadata": {},
     "output_type": "execute_result"
    }
   ],
   "source": [
    "pd.DataFrame({\n",
    "     'Комбинация клавиш': ['Ctrl+L', 'Ctrl+N (или стрелка вниз)', 'Ctrl+D'],\n",
    "     'Действие': ['Очистить экран терминала', 'Прервать выполнение текущей команды Python', 'Выйти из сеанса IPython']\n",
    "})"
   ]
  },
  {
   "cell_type": "markdown",
   "id": "e0df2145-ee4e-4ab7-a26c-9a0930077bcb",
   "metadata": {},
   "source": [
    "## Магические команды IPython"
   ]
  },
  {
   "cell_type": "markdown",
   "id": "33a15464-0200-4bde-99a3-6ad850de5325",
   "metadata": {},
   "source": [
    "% - работают с одной строкой ввода(строчные) ;\n",
    "%% - работают с несколькими строкой ввода(блочные)"
   ]
  },
  {
   "cell_type": "markdown",
   "id": "3495efc0-72da-4d0e-99db-515d3f7499e7",
   "metadata": {},
   "source": [
    "### Вставка блоков кода %paste и %cpaste"
   ]
  },
  {
   "cell_type": "raw",
   "id": "0ca0f7de-b2d5-42f0-a21e-149522ec803b",
   "metadata": {},
   "source": [
    "%paste - вводит и исполняет код в командной строке\n",
    "%%cpaste - вводит один или несколько фрагментов кода и исполняет код в командной строке"
   ]
  },
  {
   "cell_type": "markdown",
   "id": "395cd0aa-0c6f-489a-8a2e-a8dd764d0404",
   "metadata": {},
   "source": [
    "### Выполнение внешнего кода %run"
   ]
  },
  {
   "cell_type": "code",
   "execution_count": 17,
   "id": "6b0232da-a922-43a9-9ac9-572ceb9df4d0",
   "metadata": {},
   "outputs": [
    {
     "name": "stdout",
     "output_type": "stream",
     "text": [
      "1 squared is 1\n",
      "2 squared is 4\n",
      "3 squared is 9\n"
     ]
    }
   ],
   "source": [
    "%run myscript.py"
   ]
  },
  {
   "cell_type": "markdown",
   "id": "ba9ba364-7766-40dd-8b73-3e1b73bdad44",
   "metadata": {},
   "source": [
    "### Длительность выполнения кода %timeit"
   ]
  },
  {
   "cell_type": "code",
   "execution_count": 18,
   "id": "e92f08d7-a0d1-4590-a430-f6100dc09913",
   "metadata": {},
   "outputs": [
    {
     "name": "stdout",
     "output_type": "stream",
     "text": [
      "283 µs ± 1.92 µs per loop (mean ± std. dev. of 7 runs, 1,000 loops each)\n"
     ]
    }
   ],
   "source": [
    "%timeit L = [n ** 2 for n in range(1000)]"
   ]
  },
  {
   "cell_type": "code",
   "execution_count": 19,
   "id": "92ba9af9-4888-4f94-92ee-da41bfffa5d9",
   "metadata": {},
   "outputs": [
    {
     "name": "stdout",
     "output_type": "stream",
     "text": [
      "344 µs ± 4 µs per loop (mean ± std. dev. of 7 runs, 1,000 loops each)\n"
     ]
    }
   ],
   "source": [
    "%%timeit\n",
    "L = []\n",
    "for n in range(1000):\n",
    "    L.append(n ** 2)"
   ]
  },
  {
   "cell_type": "markdown",
   "id": "306d2983-e26d-451c-9349-78856755194b",
   "metadata": {},
   "source": [
    "### Справка по \"магическим\" функциям: ?, %magic и %lsmagic"
   ]
  },
  {
   "cell_type": "code",
   "execution_count": 20,
   "id": "64d3e83b-7e53-470b-b353-46c69afa46dc",
   "metadata": {
    "tags": []
   },
   "outputs": [
    {
     "data": {
      "text/plain": [
       "\u001b[1;31mDocstring:\u001b[0m\n",
       "Time execution of a Python statement or expression\n",
       "\n",
       "Usage, in line mode:\n",
       "  %timeit [-n<N> -r<R> [-t|-c] -q -p<P> -o] statement\n",
       "or in cell mode:\n",
       "  %%timeit [-n<N> -r<R> [-t|-c] -q -p<P> -o] setup_code\n",
       "  code\n",
       "  code...\n",
       "\n",
       "Time execution of a Python statement or expression using the timeit\n",
       "module.  This function can be used both as a line and cell magic:\n",
       "\n",
       "- In line mode you can time a single-line statement (though multiple\n",
       "  ones can be chained with using semicolons).\n",
       "\n",
       "- In cell mode, the statement in the first line is used as setup code\n",
       "  (executed but not timed) and the body of the cell is timed.  The cell\n",
       "  body has access to any variables created in the setup code.\n",
       "\n",
       "Options:\n",
       "-n<N>: execute the given statement <N> times in a loop. If <N> is not\n",
       "provided, <N> is determined so as to get sufficient accuracy.\n",
       "\n",
       "-r<R>: number of repeats <R>, each consisting of <N> loops, and take the\n",
       "best result.\n",
       "Default: 7\n",
       "\n",
       "-t: use time.time to measure the time, which is the default on Unix.\n",
       "This function measures wall time.\n",
       "\n",
       "-c: use time.clock to measure the time, which is the default on\n",
       "Windows and measures wall time. On Unix, resource.getrusage is used\n",
       "instead and returns the CPU user time.\n",
       "\n",
       "-p<P>: use a precision of <P> digits to display the timing result.\n",
       "Default: 3\n",
       "\n",
       "-q: Quiet, do not print result.\n",
       "\n",
       "-o: return a TimeitResult that can be stored in a variable to inspect\n",
       "    the result in more details.\n",
       "\n",
       ".. versionchanged:: 7.3\n",
       "    User variables are no longer expanded,\n",
       "    the magic line is always left unmodified.\n",
       "\n",
       "Examples\n",
       "--------\n",
       "::\n",
       "\n",
       "  In [1]: %timeit pass\n",
       "  8.26 ns ± 0.12 ns per loop (mean ± std. dev. of 7 runs, 100000000 loops each)\n",
       "\n",
       "  In [2]: u = None\n",
       "\n",
       "  In [3]: %timeit u is None\n",
       "  29.9 ns ± 0.643 ns per loop (mean ± std. dev. of 7 runs, 10000000 loops each)\n",
       "\n",
       "  In [4]: %timeit -r 4 u == None\n",
       "\n",
       "  In [5]: import time\n",
       "\n",
       "  In [6]: %timeit -n1 time.sleep(2)\n",
       "\n",
       "The times reported by %timeit will be slightly higher than those\n",
       "reported by the timeit.py script when variables are accessed. This is\n",
       "due to the fact that %timeit executes the statement in the namespace\n",
       "of the shell, compared with timeit.py, which uses a single setup\n",
       "statement to import function or create variables. Generally, the bias\n",
       "does not matter as long as results from timeit.py are not mixed with\n",
       "those from %timeit.\n",
       "\u001b[1;31mFile:\u001b[0m      c:\\users\\113si\\anaconda3\\lib\\site-packages\\ipython\\core\\magics\\execution.py"
      ]
     },
     "metadata": {},
     "output_type": "display_data"
    }
   ],
   "source": [
    "%timeit?"
   ]
  },
  {
   "cell_type": "raw",
   "id": "17d8f120-273a-4d54-9561-59e3e9ce8114",
   "metadata": {
    "jupyter": {
     "outputs_hidden": true
    },
    "tags": []
   },
   "source": [
    "%magic"
   ]
  },
  {
   "cell_type": "code",
   "execution_count": 21,
   "id": "8a5e8dbc-5427-47b9-b979-663c7f88e6f3",
   "metadata": {},
   "outputs": [
    {
     "data": {
      "application/json": {
       "cell": {
        "!": "OSMagics",
        "HTML": "Other",
        "SVG": "Other",
        "bash": "Other",
        "capture": "ExecutionMagics",
        "cmd": "Other",
        "debug": "ExecutionMagics",
        "file": "Other",
        "html": "DisplayMagics",
        "javascript": "DisplayMagics",
        "js": "DisplayMagics",
        "latex": "DisplayMagics",
        "markdown": "DisplayMagics",
        "perl": "Other",
        "prun": "ExecutionMagics",
        "pypy": "Other",
        "python": "Other",
        "python2": "Other",
        "python3": "Other",
        "ruby": "Other",
        "script": "ScriptMagics",
        "sh": "Other",
        "svg": "DisplayMagics",
        "sx": "OSMagics",
        "system": "OSMagics",
        "time": "ExecutionMagics",
        "timeit": "ExecutionMagics",
        "writefile": "OSMagics"
       },
       "line": {
        "alias": "OSMagics",
        "alias_magic": "BasicMagics",
        "autoawait": "AsyncMagics",
        "autocall": "AutoMagics",
        "automagic": "AutoMagics",
        "autosave": "KernelMagics",
        "bookmark": "OSMagics",
        "cd": "OSMagics",
        "clear": "KernelMagics",
        "cls": "KernelMagics",
        "colors": "BasicMagics",
        "conda": "PackagingMagics",
        "config": "ConfigMagics",
        "connect_info": "KernelMagics",
        "copy": "Other",
        "ddir": "Other",
        "debug": "ExecutionMagics",
        "dhist": "OSMagics",
        "dirs": "OSMagics",
        "doctest_mode": "BasicMagics",
        "echo": "Other",
        "ed": "Other",
        "edit": "KernelMagics",
        "env": "OSMagics",
        "gui": "BasicMagics",
        "hist": "Other",
        "history": "HistoryMagics",
        "killbgscripts": "ScriptMagics",
        "ldir": "Other",
        "less": "KernelMagics",
        "load": "CodeMagics",
        "load_ext": "ExtensionMagics",
        "loadpy": "CodeMagics",
        "logoff": "LoggingMagics",
        "logon": "LoggingMagics",
        "logstart": "LoggingMagics",
        "logstate": "LoggingMagics",
        "logstop": "LoggingMagics",
        "ls": "Other",
        "lsmagic": "BasicMagics",
        "macro": "ExecutionMagics",
        "magic": "BasicMagics",
        "matplotlib": "PylabMagics",
        "mkdir": "Other",
        "more": "KernelMagics",
        "notebook": "BasicMagics",
        "page": "BasicMagics",
        "pastebin": "CodeMagics",
        "pdb": "ExecutionMagics",
        "pdef": "NamespaceMagics",
        "pdoc": "NamespaceMagics",
        "pfile": "NamespaceMagics",
        "pinfo": "NamespaceMagics",
        "pinfo2": "NamespaceMagics",
        "pip": "PackagingMagics",
        "popd": "OSMagics",
        "pprint": "BasicMagics",
        "precision": "BasicMagics",
        "prun": "ExecutionMagics",
        "psearch": "NamespaceMagics",
        "psource": "NamespaceMagics",
        "pushd": "OSMagics",
        "pwd": "OSMagics",
        "pycat": "OSMagics",
        "pylab": "PylabMagics",
        "qtconsole": "KernelMagics",
        "quickref": "BasicMagics",
        "recall": "HistoryMagics",
        "rehashx": "OSMagics",
        "reload_ext": "ExtensionMagics",
        "ren": "Other",
        "rep": "Other",
        "rerun": "HistoryMagics",
        "reset": "NamespaceMagics",
        "reset_selective": "NamespaceMagics",
        "rmdir": "Other",
        "run": "ExecutionMagics",
        "save": "CodeMagics",
        "sc": "OSMagics",
        "set_env": "OSMagics",
        "store": "StoreMagics",
        "sx": "OSMagics",
        "system": "OSMagics",
        "tb": "ExecutionMagics",
        "time": "ExecutionMagics",
        "timeit": "ExecutionMagics",
        "unalias": "OSMagics",
        "unload_ext": "ExtensionMagics",
        "who": "NamespaceMagics",
        "who_ls": "NamespaceMagics",
        "whos": "NamespaceMagics",
        "xdel": "NamespaceMagics",
        "xmode": "BasicMagics"
       }
      },
      "text/plain": [
       "Available line magics:\n",
       "%alias  %alias_magic  %autoawait  %autocall  %automagic  %autosave  %bookmark  %cd  %clear  %cls  %colors  %conda  %config  %connect_info  %copy  %ddir  %debug  %dhist  %dirs  %doctest_mode  %echo  %ed  %edit  %env  %gui  %hist  %history  %killbgscripts  %ldir  %less  %load  %load_ext  %loadpy  %logoff  %logon  %logstart  %logstate  %logstop  %ls  %lsmagic  %macro  %magic  %matplotlib  %mkdir  %more  %notebook  %page  %pastebin  %pdb  %pdef  %pdoc  %pfile  %pinfo  %pinfo2  %pip  %popd  %pprint  %precision  %prun  %psearch  %psource  %pushd  %pwd  %pycat  %pylab  %qtconsole  %quickref  %recall  %rehashx  %reload_ext  %ren  %rep  %rerun  %reset  %reset_selective  %rmdir  %run  %save  %sc  %set_env  %store  %sx  %system  %tb  %time  %timeit  %unalias  %unload_ext  %who  %who_ls  %whos  %xdel  %xmode\n",
       "\n",
       "Available cell magics:\n",
       "%%!  %%HTML  %%SVG  %%bash  %%capture  %%cmd  %%debug  %%file  %%html  %%javascript  %%js  %%latex  %%markdown  %%perl  %%prun  %%pypy  %%python  %%python2  %%python3  %%ruby  %%script  %%sh  %%svg  %%sx  %%system  %%time  %%timeit  %%writefile\n",
       "\n",
       "Automagic is ON, % prefix IS NOT needed for line magics."
      ]
     },
     "execution_count": 21,
     "metadata": {},
     "output_type": "execute_result"
    }
   ],
   "source": [
    "%lsmagic"
   ]
  },
  {
   "cell_type": "markdown",
   "id": "2a076be6-5f73-4467-ab9f-90e1910e5ff0",
   "metadata": {},
   "source": [
    "**Перезапускает команду**"
   ]
  },
  {
   "cell_type": "code",
   "execution_count": 22,
   "id": "f4411267-8b30-4381-84d6-4c27c65bee40",
   "metadata": {},
   "outputs": [
    {
     "name": "stdout",
     "output_type": "stream",
     "text": [
      "=== Executing: ===\n",
      "%lsmagic\n",
      "=== Output: ===\n"
     ]
    },
    {
     "data": {
      "application/json": {
       "cell": {
        "!": "OSMagics",
        "HTML": "Other",
        "SVG": "Other",
        "bash": "Other",
        "capture": "ExecutionMagics",
        "cmd": "Other",
        "debug": "ExecutionMagics",
        "file": "Other",
        "html": "DisplayMagics",
        "javascript": "DisplayMagics",
        "js": "DisplayMagics",
        "latex": "DisplayMagics",
        "markdown": "DisplayMagics",
        "perl": "Other",
        "prun": "ExecutionMagics",
        "pypy": "Other",
        "python": "Other",
        "python2": "Other",
        "python3": "Other",
        "ruby": "Other",
        "script": "ScriptMagics",
        "sh": "Other",
        "svg": "DisplayMagics",
        "sx": "OSMagics",
        "system": "OSMagics",
        "time": "ExecutionMagics",
        "timeit": "ExecutionMagics",
        "writefile": "OSMagics"
       },
       "line": {
        "alias": "OSMagics",
        "alias_magic": "BasicMagics",
        "autoawait": "AsyncMagics",
        "autocall": "AutoMagics",
        "automagic": "AutoMagics",
        "autosave": "KernelMagics",
        "bookmark": "OSMagics",
        "cd": "OSMagics",
        "clear": "KernelMagics",
        "cls": "KernelMagics",
        "colors": "BasicMagics",
        "conda": "PackagingMagics",
        "config": "ConfigMagics",
        "connect_info": "KernelMagics",
        "copy": "Other",
        "ddir": "Other",
        "debug": "ExecutionMagics",
        "dhist": "OSMagics",
        "dirs": "OSMagics",
        "doctest_mode": "BasicMagics",
        "echo": "Other",
        "ed": "Other",
        "edit": "KernelMagics",
        "env": "OSMagics",
        "gui": "BasicMagics",
        "hist": "Other",
        "history": "HistoryMagics",
        "killbgscripts": "ScriptMagics",
        "ldir": "Other",
        "less": "KernelMagics",
        "load": "CodeMagics",
        "load_ext": "ExtensionMagics",
        "loadpy": "CodeMagics",
        "logoff": "LoggingMagics",
        "logon": "LoggingMagics",
        "logstart": "LoggingMagics",
        "logstate": "LoggingMagics",
        "logstop": "LoggingMagics",
        "ls": "Other",
        "lsmagic": "BasicMagics",
        "macro": "ExecutionMagics",
        "magic": "BasicMagics",
        "matplotlib": "PylabMagics",
        "mkdir": "Other",
        "more": "KernelMagics",
        "notebook": "BasicMagics",
        "page": "BasicMagics",
        "pastebin": "CodeMagics",
        "pdb": "ExecutionMagics",
        "pdef": "NamespaceMagics",
        "pdoc": "NamespaceMagics",
        "pfile": "NamespaceMagics",
        "pinfo": "NamespaceMagics",
        "pinfo2": "NamespaceMagics",
        "pip": "PackagingMagics",
        "popd": "OSMagics",
        "pprint": "BasicMagics",
        "precision": "BasicMagics",
        "prun": "ExecutionMagics",
        "psearch": "NamespaceMagics",
        "psource": "NamespaceMagics",
        "pushd": "OSMagics",
        "pwd": "OSMagics",
        "pycat": "OSMagics",
        "pylab": "PylabMagics",
        "qtconsole": "KernelMagics",
        "quickref": "BasicMagics",
        "recall": "HistoryMagics",
        "rehashx": "OSMagics",
        "reload_ext": "ExtensionMagics",
        "ren": "Other",
        "rep": "Other",
        "rerun": "HistoryMagics",
        "reset": "NamespaceMagics",
        "reset_selective": "NamespaceMagics",
        "rmdir": "Other",
        "run": "ExecutionMagics",
        "save": "CodeMagics",
        "sc": "OSMagics",
        "set_env": "OSMagics",
        "store": "StoreMagics",
        "sx": "OSMagics",
        "system": "OSMagics",
        "tb": "ExecutionMagics",
        "time": "ExecutionMagics",
        "timeit": "ExecutionMagics",
        "unalias": "OSMagics",
        "unload_ext": "ExtensionMagics",
        "who": "NamespaceMagics",
        "who_ls": "NamespaceMagics",
        "whos": "NamespaceMagics",
        "xdel": "NamespaceMagics",
        "xmode": "BasicMagics"
       }
      },
      "text/plain": [
       "Available line magics:\n",
       "%alias  %alias_magic  %autoawait  %autocall  %automagic  %autosave  %bookmark  %cd  %clear  %cls  %colors  %conda  %config  %connect_info  %copy  %ddir  %debug  %dhist  %dirs  %doctest_mode  %echo  %ed  %edit  %env  %gui  %hist  %history  %killbgscripts  %ldir  %less  %load  %load_ext  %loadpy  %logoff  %logon  %logstart  %logstate  %logstop  %ls  %lsmagic  %macro  %magic  %matplotlib  %mkdir  %more  %notebook  %page  %pastebin  %pdb  %pdef  %pdoc  %pfile  %pinfo  %pinfo2  %pip  %popd  %pprint  %precision  %prun  %psearch  %psource  %pushd  %pwd  %pycat  %pylab  %qtconsole  %quickref  %recall  %rehashx  %reload_ext  %ren  %rep  %rerun  %reset  %reset_selective  %rmdir  %run  %save  %sc  %set_env  %store  %sx  %system  %tb  %time  %timeit  %unalias  %unload_ext  %who  %who_ls  %whos  %xdel  %xmode\n",
       "\n",
       "Available cell magics:\n",
       "%%!  %%HTML  %%SVG  %%bash  %%capture  %%cmd  %%debug  %%file  %%html  %%javascript  %%js  %%latex  %%markdown  %%perl  %%prun  %%pypy  %%python  %%python2  %%python3  %%ruby  %%script  %%sh  %%svg  %%sx  %%system  %%time  %%timeit  %%writefile\n",
       "\n",
       "Automagic is ON, % prefix IS NOT needed for line magics."
      ]
     },
     "execution_count": 22,
     "metadata": {},
     "output_type": "execute_result"
    }
   ],
   "source": [
    "%rerun 21"
   ]
  },
  {
   "cell_type": "markdown",
   "id": "549d7e01-76bb-4c64-8277-e9d1170b92a7",
   "metadata": {},
   "source": [
    "**Сохраняет в файл**"
   ]
  },
  {
   "cell_type": "code",
   "execution_count": 23,
   "id": "ff12af49-d1d9-4a77-8046-fb79535e8dd4",
   "metadata": {},
   "outputs": [
    {
     "name": "stdin",
     "output_type": "stream",
     "text": [
      "File `22.py` exists. Overwrite (y/[N])?   y\n"
     ]
    },
    {
     "name": "stdout",
     "output_type": "stream",
     "text": [
      "The following commands were written to file `22.py`:\n",
      "help(len)\n",
      "get_ipython().run_line_magic('pinfo', 'len')\n",
      "L = [1,2,3]\n",
      "get_ipython().run_line_magic('pinfo', 'L.insert')\n",
      "get_ipython().run_line_magic('pinfo', 'L')\n",
      "def square(a):\n",
      "    \"\"\"Возвращает значение a^2\"\"\"\n",
      "    return a ** 2\n",
      "get_ipython().run_line_magic('pinfo', 'square')\n",
      "get_ipython().run_line_magic('pinfo2', 'square')\n",
      "get_ipython().run_line_magic('pinfo2', 'len')\n",
      "get_ipython().run_line_magic('psearch', '*Warning')\n",
      "get_ipython().run_line_magic('psearch', 'str.*find*')\n",
      "import pandas as pd\n",
      "pd.DataFrame({\n",
      "     'Комбинация клавиш': ['Ctrl+A', 'Ctrl+E', 'Ctrl+B (или стрелка влево)', 'Ctrl+F (или стрелка вправо)'],\n",
      "     'Действие': ['Перемещает курсор в начало строки', 'Перемещает курсор в конец строки', 'Перемещает курсор назад на 1 символ', 'Перемещает курсор вперед на 1 символ']\n",
      "})\n",
      "pd.DataFrame({\n",
      "     'Комбинация клавиш': ['BackSpace', 'Ctrl+D', 'Ctrl+K', 'Ctrl+U', 'Ctrl+Y', 'Ctrl+T'],\n",
      "     'Действие': ['Удаляет предыдущий символ в строке', 'Удаляет следующий символ в строке', 'Вырезает текст от курсора и до конца строки',\n",
      "                  'Вырезает текст с начала строки до курсора','Вставляет предварительно вырезанный текст','Меняет местами предыдущие два символа']\n",
      "})\n",
      "pd.DataFrame({\n",
      "     'Комбинация клавиш': ['Ctrl+P', 'Ctrl+N (или стрелка вверх)', 'Ctrl+R (или стрелка вниз)'],\n",
      "     'Действие': ['Доступ к предыдущей команде в истории', 'Доступ к следующей команде в истории', 'Поиск в обратном направлении по истории команд']\n",
      "})\n",
      "pd.DataFrame({\n",
      "     'Комбинация клавиш': ['Ctrl+L', 'Ctrl+N (или стрелка вниз)', 'Ctrl+D'],\n",
      "     'Действие': ['Очистить экран терминала', 'Прервать выполнение текущей команды Python', 'Выйти из сеанса IPython']\n",
      "})\n",
      "get_ipython().run_line_magic('run', 'myscript.py')\n",
      "get_ipython().run_line_magic('timeit', 'L = [n ** 2 for n in range(1000)]')\n",
      "get_ipython().run_cell_magic('timeit', '', 'L = []\\nfor n in range(1000):\\n    L.append(n ** 2)\\n')\n",
      "get_ipython().run_line_magic('pinfo', '%timeit')\n",
      "get_ipython().run_line_magic('lsmagic', '')\n",
      "get_ipython().run_line_magic('rerun', '21')\n"
     ]
    }
   ],
   "source": [
    "%save 22"
   ]
  },
  {
   "cell_type": "markdown",
   "id": "e5066c6b-9340-47c6-b44a-cb6a043625ca",
   "metadata": {},
   "source": [
    "## История ввода и вывода"
   ]
  },
  {
   "cell_type": "markdown",
   "id": "51f94af9-2dec-4752-9c5b-058966795122",
   "metadata": {},
   "source": [
    "### Объекты IN/OUT"
   ]
  },
  {
   "cell_type": "code",
   "execution_count": 24,
   "id": "cbc8f6f8-7fe7-4b7c-b503-3d76cdc7e5ed",
   "metadata": {},
   "outputs": [],
   "source": [
    "import math"
   ]
  },
  {
   "cell_type": "code",
   "execution_count": 25,
   "id": "2f075257-cf29-4ca8-b444-f654d7fbaacf",
   "metadata": {},
   "outputs": [
    {
     "data": {
      "text/plain": [
       "0.9092974268256817"
      ]
     },
     "execution_count": 25,
     "metadata": {},
     "output_type": "execute_result"
    }
   ],
   "source": [
    "math.sin(2)"
   ]
  },
  {
   "cell_type": "code",
   "execution_count": 26,
   "id": "f4c8ccb2-6dc5-4509-b75b-fa2a747cfe38",
   "metadata": {},
   "outputs": [
    {
     "data": {
      "text/plain": [
       "-0.4161468365471424"
      ]
     },
     "execution_count": 26,
     "metadata": {},
     "output_type": "execute_result"
    }
   ],
   "source": [
    "math.cos(2)"
   ]
  },
  {
   "cell_type": "code",
   "execution_count": 27,
   "id": "66569dc5-0e83-49a0-bb19-b1af92b90286",
   "metadata": {},
   "outputs": [
    {
     "name": "stdout",
     "output_type": "stream",
     "text": [
      "['', 'help(len)', \"get_ipython().run_line_magic('pinfo', 'len')\", 'L = [1,2,3]', \"get_ipython().run_line_magic('pinfo', 'L.insert')\", \"get_ipython().run_line_magic('pinfo', 'L')\", 'def square(a):\\n    \"\"\"Возвращает значение a^2\"\"\"\\n    return a ** 2', \"get_ipython().run_line_magic('pinfo', 'square')\", \"get_ipython().run_line_magic('pinfo2', 'square')\", \"get_ipython().run_line_magic('pinfo2', 'len')\", \"get_ipython().run_line_magic('psearch', '*Warning')\", \"get_ipython().run_line_magic('psearch', 'str.*find*')\", 'import pandas as pd', \"pd.DataFrame({\\n     'Комбинация клавиш': ['Ctrl+A', 'Ctrl+E', 'Ctrl+B (или стрелка влево)', 'Ctrl+F (или стрелка вправо)'],\\n     'Действие': ['Перемещает курсор в начало строки', 'Перемещает курсор в конец строки', 'Перемещает курсор назад на 1 символ', 'Перемещает курсор вперед на 1 символ']\\n})\", \"pd.DataFrame({\\n     'Комбинация клавиш': ['BackSpace', 'Ctrl+D', 'Ctrl+K', 'Ctrl+U', 'Ctrl+Y', 'Ctrl+T'],\\n     'Действие': ['Удаляет предыдущий символ в строке', 'Удаляет следующий символ в строке', 'Вырезает текст от курсора и до конца строки',\\n                  'Вырезает текст с начала строки до курсора','Вставляет предварительно вырезанный текст','Меняет местами предыдущие два символа']\\n})\", \"pd.DataFrame({\\n     'Комбинация клавиш': ['Ctrl+P', 'Ctrl+N (или стрелка вверх)', 'Ctrl+R (или стрелка вниз)'],\\n     'Действие': ['Доступ к предыдущей команде в истории', 'Доступ к следующей команде в истории', 'Поиск в обратном направлении по истории команд']\\n})\", \"pd.DataFrame({\\n     'Комбинация клавиш': ['Ctrl+L', 'Ctrl+N (или стрелка вниз)', 'Ctrl+D'],\\n     'Действие': ['Очистить экран терминала', 'Прервать выполнение текущей команды Python', 'Выйти из сеанса IPython']\\n})\", \"get_ipython().run_line_magic('run', 'myscript.py')\", \"get_ipython().run_line_magic('timeit', 'L = [n ** 2 for n in range(1000)]')\", \"get_ipython().run_cell_magic('timeit', '', 'L = []\\\\nfor n in range(1000):\\\\n    L.append(n ** 2)\\\\n')\", \"get_ipython().run_line_magic('pinfo', '%timeit')\", \"get_ipython().run_line_magic('lsmagic', '')\", \"get_ipython().run_line_magic('rerun', '21')\", \"get_ipython().run_line_magic('save', '22')\", 'import math', 'math.sin(2)', 'math.cos(2)', 'print(In)']\n"
     ]
    }
   ],
   "source": [
    "print(In)"
   ]
  },
  {
   "cell_type": "code",
   "execution_count": 28,
   "id": "31d748e2-72b8-4881-ae68-a758e5e9403a",
   "metadata": {},
   "outputs": [
    {
     "data": {
      "text/plain": [
       "{13:              Комбинация клавиш                              Действие\n",
       " 0                       Ctrl+A     Перемещает курсор в начало строки\n",
       " 1                       Ctrl+E      Перемещает курсор в конец строки\n",
       " 2   Ctrl+B (или стрелка влево)   Перемещает курсор назад на 1 символ\n",
       " 3  Ctrl+F (или стрелка вправо)  Перемещает курсор вперед на 1 символ,\n",
       " 14:   Комбинация клавиш                                     Действие\n",
       " 0         BackSpace           Удаляет предыдущий символ в строке\n",
       " 1            Ctrl+D            Удаляет следующий символ в строке\n",
       " 2            Ctrl+K  Вырезает текст от курсора и до конца строки\n",
       " 3            Ctrl+U    Вырезает текст с начала строки до курсора\n",
       " 4            Ctrl+Y    Вставляет предварительно вырезанный текст\n",
       " 5            Ctrl+T        Меняет местами предыдущие два символа,\n",
       " 15:             Комбинация клавиш                                        Действие\n",
       " 0                      Ctrl+P           Доступ к предыдущей команде в истории\n",
       " 1  Ctrl+N (или стрелка вверх)            Доступ к следующей команде в истории\n",
       " 2   Ctrl+R (или стрелка вниз)  Поиск в обратном направлении по истории команд,\n",
       " 16:            Комбинация клавиш                                    Действие\n",
       " 0                     Ctrl+L                    Очистить экран терминала\n",
       " 1  Ctrl+N (или стрелка вниз)  Прервать выполнение текущей команды Python\n",
       " 2                     Ctrl+D                     Выйти из сеанса IPython,\n",
       " 21: Available line magics:\n",
       "%alias  %alias_magic  %autoawait  %autocall  %automagic  %autosave  %bookmark  %cd  %clear  %cls  %colors  %conda  %config  %connect_info  %copy  %ddir  %debug  %dhist  %dirs  %doctest_mode  %echo  %ed  %edit  %env  %gui  %hist  %history  %killbgscripts  %ldir  %less  %load  %load_ext  %loadpy  %logoff  %logon  %logstart  %logstate  %logstop  %ls  %lsmagic  %macro  %magic  %matplotlib  %mkdir  %more  %notebook  %page  %pastebin  %pdb  %pdef  %pdoc  %pfile  %pinfo  %pinfo2  %pip  %popd  %pprint  %precision  %prun  %psearch  %psource  %pushd  %pwd  %pycat  %pylab  %qtconsole  %quickref  %recall  %rehashx  %reload_ext  %ren  %rep  %rerun  %reset  %reset_selective  %rmdir  %run  %save  %sc  %set_env  %store  %sx  %system  %tb  %time  %timeit  %unalias  %unload_ext  %who  %who_ls  %whos  %xdel  %xmode\n",
       "\n",
       "Available cell magics:\n",
       "%%!  %%HTML  %%SVG  %%bash  %%capture  %%cmd  %%debug  %%file  %%html  %%javascript  %%js  %%latex  %%markdown  %%perl  %%prun  %%pypy  %%python  %%python2  %%python3  %%ruby  %%script  %%sh  %%svg  %%sx  %%system  %%time  %%timeit  %%writefile\n",
       "\n",
       "Automagic is ON, % prefix IS NOT needed for line magics.,\n",
       " 22: Available line magics:\n",
       "%alias  %alias_magic  %autoawait  %autocall  %automagic  %autosave  %bookmark  %cd  %clear  %cls  %colors  %conda  %config  %connect_info  %copy  %ddir  %debug  %dhist  %dirs  %doctest_mode  %echo  %ed  %edit  %env  %gui  %hist  %history  %killbgscripts  %ldir  %less  %load  %load_ext  %loadpy  %logoff  %logon  %logstart  %logstate  %logstop  %ls  %lsmagic  %macro  %magic  %matplotlib  %mkdir  %more  %notebook  %page  %pastebin  %pdb  %pdef  %pdoc  %pfile  %pinfo  %pinfo2  %pip  %popd  %pprint  %precision  %prun  %psearch  %psource  %pushd  %pwd  %pycat  %pylab  %qtconsole  %quickref  %recall  %rehashx  %reload_ext  %ren  %rep  %rerun  %reset  %reset_selective  %rmdir  %run  %save  %sc  %set_env  %store  %sx  %system  %tb  %time  %timeit  %unalias  %unload_ext  %who  %who_ls  %whos  %xdel  %xmode\n",
       "\n",
       "Available cell magics:\n",
       "%%!  %%HTML  %%SVG  %%bash  %%capture  %%cmd  %%debug  %%file  %%html  %%javascript  %%js  %%latex  %%markdown  %%perl  %%prun  %%pypy  %%python  %%python2  %%python3  %%ruby  %%script  %%sh  %%svg  %%sx  %%system  %%time  %%timeit  %%writefile\n",
       "\n",
       "Automagic is ON, % prefix IS NOT needed for line magics.,\n",
       " 25: 0.9092974268256817,\n",
       " 26: -0.4161468365471424}"
      ]
     },
     "execution_count": 28,
     "metadata": {},
     "output_type": "execute_result"
    }
   ],
   "source": [
    "Out"
   ]
  },
  {
   "cell_type": "code",
   "execution_count": 29,
   "id": "11f5fdd7-9937-42d3-ac5a-6099468d91f0",
   "metadata": {},
   "outputs": [
    {
     "name": "stdout",
     "output_type": "stream",
     "text": [
      "get_ipython().run_line_magic('lsmagic', '')\n"
     ]
    }
   ],
   "source": [
    "print(In[-9])"
   ]
  },
  {
   "cell_type": "code",
   "execution_count": 30,
   "id": "817a41a8-24f2-4697-9489-12620f34f6df",
   "metadata": {},
   "outputs": [
    {
     "data": {
      "text/plain": [
       "1.0"
      ]
     },
     "execution_count": 30,
     "metadata": {},
     "output_type": "execute_result"
    }
   ],
   "source": [
    "Out[25] ** 2 + Out[26] ** 2"
   ]
  },
  {
   "cell_type": "markdown",
   "id": "31db4107-1670-4360-a6a8-417bf539fe33",
   "metadata": {},
   "source": [
    "### Быстрый доступ к предыдущим выводам с помощью знака _"
   ]
  },
  {
   "cell_type": "code",
   "execution_count": 31,
   "id": "73f3d136-b272-437d-9a2b-70c1a00fac76",
   "metadata": {},
   "outputs": [
    {
     "name": "stdout",
     "output_type": "stream",
     "text": [
      "1.0\n"
     ]
    }
   ],
   "source": [
    "print(_)"
   ]
  },
  {
   "cell_type": "code",
   "execution_count": 32,
   "id": "721ab2ca-7ab9-4e20-9496-80f6b85ff1dc",
   "metadata": {},
   "outputs": [
    {
     "name": "stdout",
     "output_type": "stream",
     "text": [
      "-0.4161468365471424\n"
     ]
    }
   ],
   "source": [
    "print(__)"
   ]
  },
  {
   "cell_type": "code",
   "execution_count": 33,
   "id": "4ef65cae-5378-476b-b459-0578732f5fb7",
   "metadata": {},
   "outputs": [
    {
     "data": {
      "text/plain": [
       "-0.4161468365471424"
      ]
     },
     "execution_count": 33,
     "metadata": {},
     "output_type": "execute_result"
    }
   ],
   "source": [
    "Out[26]"
   ]
  },
  {
   "cell_type": "code",
   "execution_count": 34,
   "id": "5ec4756c-13b7-4a8a-92b8-fa62c4df9037",
   "metadata": {},
   "outputs": [
    {
     "data": {
      "text/plain": [
       "-0.4161468365471424"
      ]
     },
     "execution_count": 34,
     "metadata": {},
     "output_type": "execute_result"
    }
   ],
   "source": [
    "_26"
   ]
  },
  {
   "cell_type": "markdown",
   "id": "0193dea9-3880-4e90-ac96-599fa92d1139",
   "metadata": {},
   "source": [
    "### Подавление вывода"
   ]
  },
  {
   "cell_type": "markdown",
   "id": "a54e9384-3642-4163-9926-a9aa55007e99",
   "metadata": {},
   "source": [
    "**С помощью символа ;**"
   ]
  },
  {
   "cell_type": "code",
   "execution_count": 35,
   "id": "f371939f-5056-4ec3-83b3-0624b83d7230",
   "metadata": {},
   "outputs": [
    {
     "data": {
      "text/plain": [
       "1.0"
      ]
     },
     "execution_count": 35,
     "metadata": {},
     "output_type": "execute_result"
    }
   ],
   "source": [
    "math.sin(2) ** 2 + math.cos(2) ** 2"
   ]
  },
  {
   "cell_type": "code",
   "execution_count": 36,
   "id": "9e92b545-c0ed-4d7a-aecd-311156d9b441",
   "metadata": {},
   "outputs": [],
   "source": [
    "math.sin(2) ** 2 + math.cos(2) ** 2;"
   ]
  },
  {
   "cell_type": "code",
   "execution_count": 37,
   "id": "c2166a61-513c-4fde-a415-5996cfc79b78",
   "metadata": {},
   "outputs": [
    {
     "data": {
      "text/plain": [
       "False"
      ]
     },
     "execution_count": 37,
     "metadata": {},
     "output_type": "execute_result"
    }
   ],
   "source": [
    "36 in Out"
   ]
  },
  {
   "cell_type": "markdown",
   "id": "45ef0385-3c34-430c-9303-e2b8169d8e4e",
   "metadata": {},
   "source": [
    "### Соответствующие магические команды"
   ]
  },
  {
   "cell_type": "code",
   "execution_count": 38,
   "id": "ab303df7-7386-4810-8b6b-5d3fd3b7690c",
   "metadata": {},
   "outputs": [
    {
     "name": "stdout",
     "output_type": "stream",
     "text": [
      "  14:\n",
      "pd.DataFrame({\n",
      "     'Комбинация клавиш': ['BackSpace', 'Ctrl+D', 'Ctrl+K', 'Ctrl+U', 'Ctrl+Y', 'Ctrl+T'],\n",
      "     'Действие': ['Удаляет предыдущий символ в строке', 'Удаляет следующий символ в строке', 'Вырезает текст от курсора и до конца строки',\n",
      "                  'Вырезает текст с начала строки до курсора','Вставляет предварительно вырезанный текст','Меняет местами предыдущие два символа']\n",
      "})\n",
      "  15:\n",
      "pd.DataFrame({\n",
      "     'Комбинация клавиш': ['Ctrl+P', 'Ctrl+N (или стрелка вверх)', 'Ctrl+R (или стрелка вниз)'],\n",
      "     'Действие': ['Доступ к предыдущей команде в истории', 'Доступ к следующей команде в истории', 'Поиск в обратном направлении по истории команд']\n",
      "})\n",
      "  16:\n",
      "pd.DataFrame({\n",
      "     'Комбинация клавиш': ['Ctrl+L', 'Ctrl+N (или стрелка вниз)', 'Ctrl+D'],\n",
      "     'Действие': ['Очистить экран терминала', 'Прервать выполнение текущей команды Python', 'Выйти из сеанса IPython']\n",
      "})\n"
     ]
    }
   ],
   "source": [
    "%history -n 14-16"
   ]
  },
  {
   "cell_type": "markdown",
   "id": "6ae6a09c-995c-4b48-a987-ed233d180292",
   "metadata": {},
   "source": [
    "## Оболочка IPython и использование системного командного процессора"
   ]
  },
  {
   "cell_type": "code",
   "execution_count": 39,
   "id": "a1050194-faef-48c5-937b-6aeede2c12df",
   "metadata": {},
   "outputs": [],
   "source": [
    "pass"
   ]
  },
  {
   "cell_type": "code",
   "execution_count": null,
   "id": "ca45be98-536f-4f4a-b711-985c7c15148d",
   "metadata": {},
   "outputs": [],
   "source": []
  }
 ],
 "metadata": {
  "kernelspec": {
   "display_name": "Python 3 (ipykernel)",
   "language": "python",
   "name": "python3"
  },
  "language_info": {
   "codemirror_mode": {
    "name": "ipython",
    "version": 3
   },
   "file_extension": ".py",
   "mimetype": "text/x-python",
   "name": "python",
   "nbconvert_exporter": "python",
   "pygments_lexer": "ipython3",
   "version": "3.10.9"
  },
  "toc-autonumbering": true,
  "toc-showcode": false,
  "toc-showmarkdowntxt": false
 },
 "nbformat": 4,
 "nbformat_minor": 5
}
